{
 "cells": [
  {
   "cell_type": "markdown",
   "id": "8a16642e-5acb-490d-9f5c-cfa44d833a70",
   "metadata": {},
   "source": [
    "# Data Science Tools and Ecosystem"
   ]
  },
  {
   "cell_type": "markdown",
   "id": "d1a11e97-cd9c-4afa-8315-3503f5207a3a",
   "metadata": {},
   "source": [
    "### In this notebook, Data Science Tools and Ecosystem are summarized."
   ]
  },
  {
   "cell_type": "markdown",
   "id": "0ea9f06d-418a-4aa5-99b4-7d9b5fa74549",
   "metadata": {},
   "source": [
    "**Objetivos:**\n",
    "\n",
    "- Enumerar los lenguajes populares para la Ciencia de Datos.\n",
    "- Identificar las bibliotecas comúnmente utilizadas en la Ciencia de Datos.\n",
    "- Demostrar herramientas para la Ciencia de Datos.\n",
    "- Evaluar expresiones aritméticas en Python.\n",
    "- Convertir minutos a horas.\n"
   ]
  },
  {
   "cell_type": "markdown",
   "id": "d8e120ae-5a94-4726-9859-df5a967871ec",
   "metadata": {},
   "source": [
    "## Autor\n",
    "\n",
    "Franco Andrés Ortiz Navarrete\n"
   ]
  },
  {
   "cell_type": "markdown",
   "id": "8c0f6061-18e9-457b-90df-72cebee6fe7c",
   "metadata": {},
   "source": [
    "#### Some of the popular languages that Data Scientists use are:\n",
    "\n",
    "1. R\n",
    "2. Python \n",
    "3. SQL\n",
    "4. Julia\n",
    "5. Scala\n"
   ]
  },
  {
   "cell_type": "markdown",
   "id": "642df091-daa6-4c63-be4b-eb202816a79d",
   "metadata": {},
   "source": [
    "#### Some of the commonly used libraries used by Data Scientists include:\n",
    "\n",
    "1. Pandas\n",
    "2. NumPy\n",
    "3. Matplotlib\n",
    "4. Scikit-learn\n",
    "5. TensorFlow\n"
   ]
  },
  {
   "cell_type": "markdown",
   "id": "2c2ab27f-776e-412a-9bf2-914c84ee0745",
   "metadata": {},
   "source": [
    "| Data Science Tools   |\n",
    "|----------------------|\n",
    "| Jupyter Notebook      |\n",
    "| RStudio               |\n",
    "| Apache Zeppelin       |\n"
   ]
  },
  {
   "cell_type": "markdown",
   "id": "3343cbb2-1659-471d-9ffe-7600b5d2b653",
   "metadata": {},
   "source": [
    "### Below are a few examples of evaluating arithmetic expressions in Python\n",
    "\n",
    "- Suma: `5 + 5` da como resultado `10`\n",
    "- Resta: `10 - 2` da como resultado `8`\n",
    "- Multiplicación: `4 * 3` da como resultado `12`\n",
    "- División: `16 / 2` da como resultado `8`\n"
   ]
  },
  {
   "cell_type": "code",
   "execution_count": 6,
   "id": "8112e8de-6cb3-47ed-8701-6ee58ed9e9db",
   "metadata": {},
   "outputs": [
    {
     "data": {
      "text/plain": [
       "17"
      ]
     },
     "execution_count": 6,
     "metadata": {},
     "output_type": "execute_result"
    }
   ],
   "source": [
    "# This a simple arithmetic expression to mutiply then add integers\n",
    "resultado = (3 * 4) + 5\n",
    "resultado"
   ]
  },
  {
   "cell_type": "code",
   "execution_count": 8,
   "id": "18945e79-b4a1-4d49-9349-d5e2366a333d",
   "metadata": {},
   "outputs": [
    {
     "data": {
      "text/plain": [
       "3.3333333333333335"
      ]
     },
     "execution_count": 8,
     "metadata": {},
     "output_type": "execute_result"
    }
   ],
   "source": [
    "# This will convert 200 minutes to hours by diving by 60\n",
    "minutos = 200\n",
    "horas = minutos / 60\n",
    "horas\n"
   ]
  },
  {
   "cell_type": "code",
   "execution_count": null,
   "id": "60169c16-8f97-4d48-9dce-c54da9cde6f6",
   "metadata": {},
   "outputs": [],
   "source": []
  }
 ],
 "metadata": {
  "kernelspec": {
   "display_name": "Python 3 (ipykernel)",
   "language": "python",
   "name": "python3"
  },
  "language_info": {
   "codemirror_mode": {
    "name": "ipython",
    "version": 3
   },
   "file_extension": ".py",
   "mimetype": "text/x-python",
   "name": "python",
   "nbconvert_exporter": "python",
   "pygments_lexer": "ipython3",
   "version": "3.11.9"
  }
 },
 "nbformat": 4,
 "nbformat_minor": 5
}
